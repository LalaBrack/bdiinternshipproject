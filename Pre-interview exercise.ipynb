{
 "cells": [
  {
   "cell_type": "markdown",
   "id": "591c4a05",
   "metadata": {},
   "source": [
    "# BDI intenship pre-interview exercise\n",
    "\n",
    "Brief analysis of clusters in comorbidity network of symptoms and diseases reported over a three month period by approximately 16,000 individuals aged 1+ years in 17 villages of Mayuge District, Uganda. This is a region with a high risk of schistosome infection. Understanding common symptom/disease comorbidities in the region can assist with identifying an irregular symptom profile. Common symptoms experienced by patients with schistosome infections include diarrhoea, abdominal discomfort and vomiting blood. \n",
    "\n",
    "The data for this analysis was taken from Chami, G. F., Kabatereine, N. B., Tukahebwa, E. M., & Dunne, D. W. (2018) 'Precision global health and comorbidity: a population-based study of 16 357 people in rural Uganda', *Journal of the Royal Society Interface*, 15(147), 20180248. https://doi.org/10.1098/rsif.2018.0248."
   ]
  },
  {
   "cell_type": "markdown",
   "id": "beade574",
   "metadata": {},
   "source": [
    "## Network construction"
   ]
  },
  {
   "cell_type": "code",
   "execution_count": 1,
   "id": "0c7f32f1",
   "metadata": {},
   "outputs": [],
   "source": [
    "# Construct the symptom network\n",
    "\n",
    "import networkx as nx\n",
    "import pandas as pd\n",
    "import numpy as np\n",
    "import matplotlib.pyplot as plt\n",
    "from pyvis.network import Network\n",
    "from sklearn.cluster import SpectralClustering\n",
    "from sklearn.metrics import silhouette_score\n",
    "import itertools\n",
    "\n",
    "# import data\n",
    "df = pd.read_csv('symptom_edgelist.csv')\n",
    "Graphtype = nx.Graph()\n",
    "\n",
    "G = nx.from_pandas_edgelist(df, 'node 1', 'node 2', edge_attr='weight', create_using=Graphtype)"
   ]
  },
  {
   "cell_type": "markdown",
   "id": "a8c0bacd",
   "metadata": {},
   "source": [
    "## Basic statistics and measures"
   ]
  },
  {
   "cell_type": "code",
   "execution_count": 2,
   "id": "8ab57c76",
   "metadata": {
    "slideshow": {
     "slide_type": "slide"
    }
   },
   "outputs": [
    {
     "name": "stdout",
     "output_type": "stream",
     "text": [
      "Nodes: 79, Edges: 140, Density: 0.04543979227523531, Componenents: 5\n",
      "Largest connected component details:\n",
      "Nodes: 71, Edges: 136, Density: 0.05472837022132797\n",
      "Most central nodes. Betweeness: ['sexually transmitted infection', 'back pain', 'loss of appetite', 'wheezing', 'nose bleeds'], closeness: ['sexually transmitted infection', 'loss of appetite', 'wheezing', 'itchy rash', 'fever'], eigenvector: ['loss of appetite', 'cough', 'wheezing', 'itchy rash', 'fever'].\n"
     ]
    }
   ],
   "source": [
    "# Some basic statistics\n",
    "num_nodes = nx.number_of_nodes(G)\n",
    "num_edges = nx.number_of_edges(G)\n",
    "density = nx.density(G)\n",
    "\n",
    "# number of connected components\n",
    "num_components = nx.number_connected_components(G)\n",
    "\n",
    "# largest connected component\n",
    "largest_cc = max(nx.connected_components(G), key=len)\n",
    "C = G.subgraph(largest_cc).copy()\n",
    "\n",
    "# basic details for largest connected component\n",
    "num_nodes_c = nx.number_of_nodes(C)\n",
    "num_edges_c = nx.number_of_edges(C)\n",
    "density_c = nx.density(C)\n",
    "\n",
    "# node centrality measures for largest connected component\n",
    "def get_top_keys(dictionary, top):\n",
    "    items = list(dictionary.items())\n",
    "    items.sort(reverse=True, key=lambda x: x[1])\n",
    "    return list(map(lambda x: x[0], items[:top]))\n",
    "\n",
    "# centrality\n",
    "bet_cen = nx.betweenness_centrality(C)\n",
    "clo_cen = nx.closeness_centrality(C)\n",
    "eig_cen = nx.eigenvector_centrality(C)\n",
    "\n",
    "# most central nodes\n",
    "most_bet_cen = get_top_keys(bet_cen, 5)\n",
    "most_clo_cen = get_top_keys(clo_cen, 5)\n",
    "most_eig_cen = get_top_keys(eig_cen, 5)\n",
    "\n",
    "\n",
    "print(f\"Nodes: {num_nodes}, Edges: {num_edges}, Density: {density}, Componenents: {num_components}\")\n",
    "print(\"Largest connected component details:\")\n",
    "print(f\"Nodes: {num_nodes_c}, Edges: {num_edges_c}, Density: {density_c}\")\n",
    "\n",
    "print(f\"Most central nodes. Betweeness: {most_bet_cen}, closeness: {most_clo_cen}, eigenvector: {most_eig_cen}.\")"
   ]
  },
  {
   "cell_type": "code",
   "execution_count": 3,
   "id": "73458b1c",
   "metadata": {
    "scrolled": true
   },
   "outputs": [
    {
     "data": {
      "image/png": "[encoded data removed]",
      "text/plain": [
       "<Figure size 640x480 with 1 Axes>"
      ]
     },
     "metadata": {},
     "output_type": "display_data"
    }
   ],
   "source": [
    "# centrality distribution betweenness\n",
    "\n",
    "plt.hist(list(bet_cen.values()))\n",
    "plt.show()"
   ]
  },
  {
   "cell_type": "code",
   "execution_count": 4,
   "id": "d6e60c5f",
   "metadata": {
    "scrolled": true
   },
   "outputs": [
    {
     "data": {
      "image/png": "[encoded data removed]",
      "text/plain": [
       "<Figure size 640x480 with 1 Axes>"
      ]
     },
     "metadata": {},
     "output_type": "display_data"
    }
   ],
   "source": [
    "# centrality distribution closeness\n",
    "\n",
    "plt.hist(list(clo_cen.values()))\n",
    "plt.show()"
   ]
  },
  {
   "cell_type": "code",
   "execution_count": 5,
   "id": "ace30760",
   "metadata": {},
   "outputs": [
    {
     "data": {
      "image/png": "[encoded data removed]",
      "text/plain": [
       "<Figure size 640x480 with 1 Axes>"
      ]
     },
     "metadata": {},
     "output_type": "display_data"
    }
   ],
   "source": [
    "# centrality distribution eigenvector\n",
    "plt.hist(list(eig_cen.values()))\n",
    "plt.show()"
   ]
  },
  {
   "cell_type": "markdown",
   "id": "c8818995",
   "metadata": {},
   "source": [
    "## Graph interpretation"
   ]
  },
  {
   "cell_type": "markdown",
   "id": "840fbba3",
   "metadata": {},
   "source": [
    "### Largest connected component\n",
    "\n",
    "All connected components but the largest are trivial, containing only two nodes and one edge. All further analyses and clustering will only be done on the largest connected component."
   ]
  },
  {
   "cell_type": "code",
   "execution_count": 6,
   "id": "d3d5ed13",
   "metadata": {},
   "outputs": [
    {
     "data": {
      "text/plain": [
       "[71, 2, 2, 2, 2]"
      ]
     },
     "execution_count": 6,
     "metadata": {},
     "output_type": "execute_result"
    }
   ],
   "source": [
    "# number of nodes in each of the connected components:\n",
    "\n",
    "[len(c) for c in sorted(nx.connected_components(G), key=len, reverse=True)]"
   ]
  },
  {
   "cell_type": "markdown",
   "id": "a49ec23e",
   "metadata": {},
   "source": [
    "### Non-scale free degree distribution\n",
    "There is no strong evidence suggesting that the power-law fits better than the log-normal or vice-versa, but the negative log-likelihood ratio indicates that the log-normal distribution fits the data a little better than the power-law distribution.\n",
    "\n",
    "This has some implications on the overall network structure, and clusters detected are likely to be more homogoneous but less well separated."
   ]
  },
  {
   "cell_type": "code",
   "execution_count": 7,
   "id": "7b006b37",
   "metadata": {},
   "outputs": [
    {
     "data": {
      "image/png": "[encoded data removed]",
      "text/plain": [
       "<Figure size 640x480 with 1 Axes>"
      ]
     },
     "metadata": {},
     "output_type": "display_data"
    }
   ],
   "source": [
    "# degree distribution\n",
    "plt.hist(list(nx.degree_centrality(C).values()))\n",
    "plt.show()"
   ]
  },
  {
   "cell_type": "code",
   "execution_count": 8,
   "id": "76336b72",
   "metadata": {
    "scrolled": true
   },
   "outputs": [
    {
     "name": "stdout",
     "output_type": "stream",
     "text": [
      "Calculating best minimal value for power law fit\n",
      "xmin progress: 00%\r",
      "xmin progress: 09%\r",
      "xmin progress: 18%\r",
      "xmin progress: 27%\r",
      "xmin progress: 36%\r",
      "xmin progress: 45%\r",
      "xmin progress: 54%\r",
      "xmin progress: 63%\r",
      "xmin progress: 72%\r",
      "xmin progress: 81%\r",
      "xmin progress: 90%\r",
      "Log-likelihood ratio: -0.6949827712618817\n",
      "p-value: 0.16701479724489388\n"
     ]
    },
    {
     "name": "stderr",
     "output_type": "stream",
     "text": [
      "C:\\Users\\chana\\venvs\\m269-23j\\lib\\site-packages\\powerlaw.py:1615: RuntimeWarning: invalid value encountered in divide\n",
      "  CDF = CDF/norm\n",
      "'nan' in fit cumulative distribution values.\n",
      "Likely underflow or overflow error: the optimal fit for this distribution gives values that are so extreme that we lack the numerical precision to calculate them.\n"
     ]
    },
    {
     "data": {
      "image/png": "[encoded data removed]",
      "text/plain": [
       "<Figure size 1000x600 with 1 Axes>"
      ]
     },
     "metadata": {},
     "output_type": "display_data"
    },
    {
     "name": "stdout",
     "output_type": "stream",
     "text": [
      "No strong evidence to prefer power-law over log-normal or vice versa.\n"
     ]
    }
   ],
   "source": [
    "# check if degree distribution is scale free\n",
    "\n",
    "import powerlaw\n",
    "\n",
    "# Calculate degree sequence\n",
    "degree_sequence = [degree for node, degree in C.degree()]\n",
    "\n",
    "# Fit the degree distribution to a power-law and log-normal\n",
    "fit = powerlaw.Fit(degree_sequence)\n",
    "\n",
    "# Compare power-law and log-normal distributions\n",
    "R, p = fit.distribution_compare('power_law', 'lognormal')\n",
    "\n",
    "# Print the results\n",
    "print(f'Log-likelihood ratio: {R}')\n",
    "print(f'p-value: {p}')\n",
    "\n",
    "# Plot the distributions\n",
    "fig = plt.figure(figsize=(10, 6))\n",
    "ax = fig.add_subplot(111)\n",
    "fit.power_law.plot_pdf(color='b', linestyle='-', ax=ax, label='Power-law fit')\n",
    "fit.lognormal.plot_pdf(color='r', linestyle='--', ax=ax, label='Log-normal fit')\n",
    "fit.plot_pdf(color='k', linestyle=':', ax=ax)\n",
    "plt.title('Degree Distribution with Power-law and Log-normal Fits')\n",
    "plt.xlabel('Degree')\n",
    "plt.ylabel('Probability Density')\n",
    "plt.legend()\n",
    "plt.show()\n",
    "\n",
    "# Interpretation of results\n",
    "if p < 0.05 and R > 0:\n",
    "    print(\"The power-law distribution is a better fit than the log-normal distribution.\")\n",
    "elif p < 0.05 and R < 0:\n",
    "    print(\"The log-normal distribution is a better fit than the power-law distribution.\")\n",
    "else:\n",
    "    print(\"No strong evidence to prefer power-law over log-normal or vice versa.\")\n"
   ]
  },
  {
   "cell_type": "markdown",
   "id": "28c1b4b9",
   "metadata": {},
   "source": [
    "## Community detection"
   ]
  },
  {
   "cell_type": "code",
   "execution_count": 9,
   "id": "619cdf61",
   "metadata": {
    "scrolled": true
   },
   "outputs": [
    {
     "name": "stdout",
     "output_type": "stream",
     "text": [
      "Warning: When  cdn_resources is 'local' jupyter notebook has issues displaying graphics on chrome/safari. Use cdn_resources='in_line' or cdn_resources='remote' if you have issues viewing graphics in a notebook.\n",
      "louvain_communities.html\n"
     ]
    },
    {
     "data": {
      "text/html": [
       "\n",
       "        <iframe\n",
       "            width=\"100%\"\n",
       "            height=\"600px\"\n",
       "            src=\"louvain_communities.html\"\n",
       "            frameborder=\"0\"\n",
       "            allowfullscreen\n",
       "            \n",
       "        ></iframe>\n",
       "        "
      ],
      "text/plain": [
       "<IPython.lib.display.IFrame at 0x1c1f998b280>"
      ]
     },
     "execution_count": 9,
     "metadata": {},
     "output_type": "execute_result"
    }
   ],
   "source": [
    "# Community detection using Louvain algorithm\n",
    "\n",
    "communities = nx.community.louvain_communities(C)\n",
    "\n",
    "# Mapping community numbers to nodes\n",
    "comm_num = {}\n",
    "for n, community in enumerate(communities):\n",
    "    for node in community:\n",
    "        comm_num[node] = n\n",
    "\n",
    "# Visualization with Pyvis\n",
    "# Calculate node degrees\n",
    "degrees = dict(C.degree())\n",
    "\n",
    "# Scale node sizes based on degree\n",
    "min_size = 5\n",
    "max_size = 40\n",
    "if len(degrees) > 1:\n",
    "    node_sizes = [\n",
    "        min_size + (max_size - min_size) * (degree - min(degrees.values())) / (max(degrees.values()) - min(degrees.values()))\n",
    "        for degree in degrees.values()\n",
    "    ]\n",
    "else:\n",
    "    node_sizes = [max_size] * len(degrees)\n",
    "\n",
    "# Ensure the color mapping corresponds to the labels array\n",
    "color_map = ['blue', 'yellow', 'green', 'orange', 'magenta', 'red']\n",
    "\n",
    "# Initialize Pyvis network\n",
    "net = Network(notebook=True)\n",
    "\n",
    "# Add nodes and edges to the network\n",
    "for i, node in enumerate(C.nodes()):\n",
    "    net.add_node(node, label=str(node), color=color_map[comm_num[node] % len(color_map)], size=node_sizes[i])\n",
    "\n",
    "for edge in C.edges(data=True):\n",
    "    net.add_edge(edge[0], edge[1], value=edge[2].get('weight'))\n",
    "\n",
    "net.show('louvain_communities.html')"
   ]
  },
  {
   "cell_type": "markdown",
   "id": "a50a9386",
   "metadata": {},
   "source": [
    "## Spectral clustering"
   ]
  },
  {
   "cell_type": "code",
   "execution_count": 10,
   "id": "ed3b139b",
   "metadata": {
    "scrolled": true
   },
   "outputs": [
    {
     "name": "stdout",
     "output_type": "stream",
     "text": [
      "Warning: When  cdn_resources is 'local' jupyter notebook has issues displaying graphics on chrome/safari. Use cdn_resources='in_line' or cdn_resources='remote' if you have issues viewing graphics in a notebook.\n",
      "spectral.html\n"
     ]
    },
    {
     "data": {
      "text/html": [
       "\n",
       "        <iframe\n",
       "            width=\"100%\"\n",
       "            height=\"600px\"\n",
       "            src=\"spectral.html\"\n",
       "            frameborder=\"0\"\n",
       "            allowfullscreen\n",
       "            \n",
       "        ></iframe>\n",
       "        "
      ],
      "text/plain": [
       "<IPython.lib.display.IFrame at 0x1c1f99c7a00>"
      ]
     },
     "execution_count": 10,
     "metadata": {},
     "output_type": "execute_result"
    }
   ],
   "source": [
    "# Spectral clustering\n",
    "from sklearn.preprocessing import normalize\n",
    "\n",
    "# Matrix creation\n",
    "adj_matrix = nx.to_numpy_array(C)  # Converts graph to an adjacency matrix\n",
    "node_list = list(C.nodes())  # List of nodes in the graph\n",
    "\n",
    "# Normalize the adjacency matrix\n",
    "adj_matrix_normalized = normalize(adj_matrix, norm='l1', axis=1)\n",
    "\n",
    "# Spectral Clustering\n",
    "n_clusters = 6\n",
    "spectral_clusters = SpectralClustering(affinity='precomputed', assign_labels=\"discretize\", random_state=0, n_clusters=n_clusters).fit_predict(adj_matrix)\n",
    "\n",
    "# Visualization with Pyvis\n",
    "# Calculate node degrees\n",
    "degrees = dict(C.degree())\n",
    "\n",
    "# Scale node sizes based on degree\n",
    "min_size = 5\n",
    "max_size = 40\n",
    "node_sizes = [min_size + (max_size - min_size) * (degree - min(degrees.values())) / (max(degrees.values()) - min(degrees.values())) for degree in degrees.values()]\n",
    "\n",
    "# Ensure the color mapping corresponds to the labels array\n",
    "color_map = ['red', 'green', 'blue', 'yellow', 'cyan', 'magenta']\n",
    "\n",
    "# Initialize Pyvis network\n",
    "net = Network(notebook=True)\n",
    "\n",
    "# Add nodes and edges to the network\n",
    "for i, node in enumerate(C.nodes()):\n",
    "    net.add_node(node, label=str(node), color=color_map[spectral_clusters[i] % len(color_map)], size=node_sizes[i])\n",
    "\n",
    "for edge in C.edges(data=True):\n",
    "    net.add_edge(edge[0], edge[1], value=edge[2]['weight'])\n",
    "    \n",
    "net.show('spectral.html')"
   ]
  },
  {
   "cell_type": "markdown",
   "id": "86152168",
   "metadata": {},
   "source": [
    "## Comparison of clusters\n",
    "Fairly high modularity but extremely low silhouette score and high average conductance indicate that the clusters are internally densely connected, but the separation is poor.\n",
    "\n",
    "Spectral clustering results in more imbalanced cluster sizes compared to the Louvain algorithm."
   ]
  },
  {
   "cell_type": "code",
   "execution_count": 11,
   "id": "b34fc664",
   "metadata": {},
   "outputs": [],
   "source": [
    "# Function to compute conductance for a given cluster\n",
    "def compute_conductance(graph, cluster):\n",
    "    internal_edges = graph.subgraph(cluster).size(weight='weight')\n",
    "    total_edges = sum(graph.degree(node, weight='weight') for node in cluster) / 2\n",
    "    conductance = internal_edges / total_edges\n",
    "    return conductance\n",
    "\n",
    "# Function to compute overlap between clusters using Jaccard index\n",
    "def compute_overlap(cluster1, cluster2):\n",
    "    intersection = len(set(cluster1) & set(cluster2))\n",
    "    union = len(set(cluster1) | set(cluster2))\n",
    "    overlap = intersection / union\n",
    "    return overlap"
   ]
  },
  {
   "cell_type": "code",
   "execution_count": 12,
   "id": "7867b57a",
   "metadata": {},
   "outputs": [
    {
     "name": "stdout",
     "output_type": "stream",
     "text": [
      "Louvain Communities\n",
      "Modularity: 0.5255638088120457, silhouette score: -0.9986225997454581, conductance: 0.713980864250923, overlap: 0.0, cluster size distribution: [3, 6, 10, 10, 13, 13, 16]\n"
     ]
    }
   ],
   "source": [
    "# evaluating louvain communities\n",
    "\n",
    "# cluster size distribution\n",
    "comm_sizes = [len(community) for community in communities]\n",
    "comm_sizes = sorted(comm_sizes)\n",
    "# modularity\n",
    "l_modularity = nx.community.modularity(C, communities)\n",
    "\n",
    "# silhouette score\n",
    "louvain_labels = [comm_num[node] for node in C.nodes()]\n",
    "silhouette_avg_louvain = silhouette_score(adj_matrix_normalized, louvain_labels, metric='precomputed')\n",
    "\n",
    "# Conductance\n",
    "sum_conductance = 0\n",
    "for community in communities:\n",
    "    conductance = compute_conductance(C, community)\n",
    "    sum_conductance += conductance\n",
    "avg_conductance = sum_conductance / len(communities)\n",
    "\n",
    "# Overlap using Jaccard index\n",
    "sum_overlap = 0\n",
    "for i in range(len(communities)):\n",
    "    for j in range(i + 1, len(communities)):\n",
    "        overlap = compute_overlap(communities[i], communities[j])\n",
    "        sum_overlap += overlap\n",
    "avg_overlap = sum_overlap / len(communities)\n",
    "\n",
    "print(\"Louvain Communities\")\n",
    "print(f\"Modularity: {l_modularity}, silhouette score: {silhouette_avg_louvain}, conductance: {avg_conductance}, overlap: {avg_overlap}, cluster size distribution: {comm_sizes}\")"
   ]
  },
  {
   "cell_type": "code",
   "execution_count": 13,
   "id": "cc1ed186",
   "metadata": {
    "scrolled": true
   },
   "outputs": [
    {
     "name": "stdout",
     "output_type": "stream",
     "text": [
      "Spectral clusters\n",
      "Modularity: 0.4832250518071834, silhouette score: -1.0, conductance: 0.8617736553693272, overlap: 0.0, cluster size distribution: [3, 4, 5, 8, 24, 27]\n"
     ]
    }
   ],
   "source": [
    "# evaluating spectral clusters\n",
    "\n",
    "clusters = {}\n",
    "for idx, label in enumerate(spectral_clusters):\n",
    "    if label not in clusters:\n",
    "        clusters[label] = []\n",
    "    clusters[label].append(node_list[idx])\n",
    "        \n",
    "spec_clusters = list(clusters.values())\n",
    "\n",
    "# cluster size distribution\n",
    "cluster_sizes = [len(cluster) for cluster in spec_clusters]\n",
    "cluster_sizes = sorted(cluster_sizes)\n",
    "\n",
    "# modularity\n",
    "s_modularity = nx.community.modularity(C, spec_clusters)\n",
    "\n",
    "# silhouette score\n",
    "silhouette_avg_spectral = silhouette_score(adj_matrix_normalized, spectral_clusters, metric='precomputed')\n",
    "\n",
    "# Conductance\n",
    "sum_conductance = 0\n",
    "for cluster in spec_clusters:\n",
    "    conductance = compute_conductance(C, cluster)\n",
    "    sum_conductance += conductance\n",
    "avg_conductance = sum_conductance / len(spec_clusters)\n",
    "\n",
    "# Overlap using Jaccard index\n",
    "sum_overlap = 0\n",
    "for i in range(len(spec_clusters)):\n",
    "    for j in range(i + 1, len(spec_clusters)):\n",
    "        overlap = compute_overlap(spec_clusters[i], spec_clusters[j])\n",
    "        sum_overlap += overlap\n",
    "avg_overlap = sum_overlap / len(spec_clusters)\n",
    "\n",
    "print('Spectral clusters')\n",
    "print(f\"Modularity: {s_modularity}, silhouette score: {silhouette_avg_spectral}, conductance: {avg_conductance}, overlap: {avg_overlap}, cluster size distribution: {cluster_sizes}\")"
   ]
  },
  {
   "cell_type": "markdown",
   "id": "1a4aa6ba",
   "metadata": {},
   "source": [
    "## Conclusion\n",
    "All connected components but the largest are trivial, containing only two nodes and one edge. All analyses and clustering was only be done on the largest connected component.\n",
    "\n",
    "The log-normal distribution fits the data a little better than the power-law distribution, indicating that the network degree distribution is not scale free. As a result, clusters detected are likely to be more homogeneous but less well separated.\n",
    "\n",
    "As anticipated by the degree distribution, both clustering algorithms produced clusters with fairly high modularity but extremely low silhouette scores and high average conductance, indicating that the clusters are internally densely connected, but the separation is poor.\n",
    "\n",
    "Common symptoms experienced by patients with schistosome infections include diarrhoea, abdominal discomfort and vomiting blood. Both clustering algorithms placed these three symptoms into different clusters, which could be useful for differentiating patients with schistosome infections from the wider regional population.\n",
    "\n"
   ]
  }
 ],
 "metadata": {
  "kernelspec": {
   "display_name": "Python 3 (ipykernel)",
   "language": "python",
   "name": "python3"
  },
  "language_info": {
   "codemirror_mode": {
    "name": "ipython",
    "version": 3
   },
   "file_extension": ".py",
   "mimetype": "text/x-python",
   "name": "python",
   "nbconvert_exporter": "python",
   "pygments_lexer": "ipython3",
   "version": "3.10.5"
  }
 },
 "nbformat": 4,
 "nbformat_minor": 5
}
